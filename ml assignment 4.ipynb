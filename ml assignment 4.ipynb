{
 "cells": [
  {
   "cell_type": "code",
   "execution_count": 1,
   "id": "8ddbdccc-490a-4c66-a6bf-b28279b34eb0",
   "metadata": {},
   "outputs": [
    {
     "data": {
      "text/plain": [
       "' Q1. What is data encoding? How is it useful in data science?'"
      ]
     },
     "execution_count": 1,
     "metadata": {},
     "output_type": "execute_result"
    }
   ],
   "source": [
    "''' Q1. What is data encoding? How is it useful in data science?'''"
   ]
  },
  {
   "cell_type": "code",
   "execution_count": 2,
   "id": "0441cf43-7348-41c9-9660-a07d1c81f4d9",
   "metadata": {},
   "outputs": [
    {
     "data": {
      "text/plain": [
       "'Data encoding is the process of converting data from one form to another, typically to make it suitable for transmission, storage, or analysis. In data \\nience, encoding is crucial for preparing data so that it can be effectively used by machine learning algorithms and other analytical tools.'"
      ]
     },
     "execution_count": 2,
     "metadata": {},
     "output_type": "execute_result"
    }
   ],
   "source": [
    "'''Data encoding is the process of converting data from one form to another, typically to make it suitable for transmission, storage, or analysis. In data \n",
    "ience, encoding is crucial for preparing data so that it can be effectively used by machine learning algorithms and other analytical tools.'''\n",
    "\n",
    "#Importance in Data Science\n",
    "\n",
    "# 1.Model Compatibility: Many machine learning algorithms require numerical input. Encoding transforms categorical data into a numerical format that algorithms can process.\n",
    "\n",
    "# 2.Pattern Recognition: Proper encoding helps models identify patterns within the data, improving accuracy and predictive power.\n",
    "\n",
    "# 3.Bias Prevention: Techniques like one-hot encoding prevent unintended biases that might arise from the categorical nature of the data.\n",
    "\n",
    "# 4.Feature Engineering: Encoding is a crucial part of feature engineering, which involves creating features that make models more effective."
   ]
  },
  {
   "cell_type": "code",
   "execution_count": 3,
   "id": "cac97f99-3308-4e74-8ebb-0c00cd08965d",
   "metadata": {},
   "outputs": [
    {
     "data": {
      "text/plain": [
       "'Q2. What is nominal encoding? Provide an example of how you would use it in a real-world scenario.'"
      ]
     },
     "execution_count": 3,
     "metadata": {},
     "output_type": "execute_result"
    }
   ],
   "source": [
    "'''Q2. What is nominal encoding? Provide an example of how you would use it in a real-world scenario.'''"
   ]
  },
  {
   "cell_type": "code",
   "execution_count": 4,
   "id": "09606a1f-0725-480d-962c-6f61cb4f6272",
   "metadata": {},
   "outputs": [
    {
     "name": "stdout",
     "output_type": "stream",
     "text": [
      "Original Data:\n",
      "   favorite_fruit  favorite_fruit_encoded\n",
      "0          apple                       0\n",
      "1         banana                       1\n",
      "2         cherry                       2\n",
      "3         banana                       1\n",
      "4          apple                       0\n"
     ]
    }
   ],
   "source": [
    "'''Nominal encoding is a technique used to convert categorical data into a numerical format that can be used by machine learning algorithms. This type of\n",
    "encoding is particularly useful for nominal data, which consists of categories that do not have an inherent order or ranking.\n",
    "\n",
    "Example of Nominal Encoding\n",
    "Consider a dataset with a feature color that has values: ['red', 'green', 'blue']. Using nominal encoding, each category is assigned a unique integer:\n",
    "\n",
    "Table\n",
    "\n",
    "Color\tEncoded Value\n",
    "Red\t       0\n",
    "Green\t   1\n",
    "Blue\t   2                                   '''\n",
    "\n",
    "import pandas as pd\n",
    "\n",
    "# Example dataset\n",
    "data = pd.DataFrame({\n",
    "    'favorite_fruit': ['apple', 'banana', 'cherry', 'banana', 'apple']\n",
    "})\n",
    "\n",
    "# Nominal encoding\n",
    "data['favorite_fruit_encoded'] = data['favorite_fruit'].astype('category').cat.codes\n",
    "\n",
    "print(\"Original Data:\\n\", data)\n"
   ]
  },
  {
   "cell_type": "code",
   "execution_count": 5,
   "id": "3787813b-e1c6-44e5-84d4-bc9da37199da",
   "metadata": {},
   "outputs": [
    {
     "data": {
      "text/plain": [
       "'Q3. In what situations is nominal encoding preferred over one-hot encoding? Provide a practical example.'"
      ]
     },
     "execution_count": 5,
     "metadata": {},
     "output_type": "execute_result"
    }
   ],
   "source": [
    "'''Q3. In what situations is nominal encoding preferred over one-hot encoding? Provide a practical example.'''"
   ]
  },
  {
   "cell_type": "code",
   "execution_count": 6,
   "id": "75a657da-80e4-473b-be94-df913cd2f2c1",
   "metadata": {},
   "outputs": [
    {
     "name": "stdout",
     "output_type": "stream",
     "text": [
      "Original Data:\n",
      "   customer_region  customer_region_encoded\n",
      "0           North                        1\n",
      "1           South                        2\n",
      "2            East                        0\n",
      "3            West                        3\n",
      "4           North                        1\n",
      "5            East                        0\n",
      "6           South                        2\n",
      "7            West                        3\n"
     ]
    }
   ],
   "source": [
    "#Situations Where Nominal Encoding is Preferred\n",
    "\n",
    "# 1.High Cardinality: When the categorical feature has a large number of unique categories, one-hot encoding can create a very large number of binary columns, \n",
    "#leading to increased memory usage and computational cost. Nominal encoding, on the other hand, assigns a unique integer to each category, which is more\n",
    "#efficient.\n",
    "\n",
    "#2.Ordinal Data: When the categorical data has an inherent order or ranking, nominal encoding preserves this order. For example, customer satisfaction\n",
    "#ratings (e.g., ‘poor’, ‘average’, ‘good’, ‘excellent’) can be encoded as 1, 2, 3, and 4, respectively.\n",
    "\n",
    "# 3.Tree-Based Algorithms: Some machine learning algorithms, like decision trees and random forests, can handle nominally encoded data effectively. These algorithms\n",
    "#can split on the encoded values without assuming any ordinal relationship.\n",
    "\n",
    "'''Practical Example \n",
    "\n",
    "Let’s consider a practical example where you are working on a project to predict customer churn for a telecom company. One of the features in your\n",
    "dataset is customer_region, which has a large number of unique regions.\n",
    "\n",
    "Using Nominal Encoding\n",
    "\n",
    "1..Identify the Categories: Determine the unique categories in the customer_region feature.\n",
    "\n",
    "2..Assign Unique Integers: Map each category to a unique integer.'''\n",
    "\n",
    "import pandas as pd\n",
    "\n",
    "# Example dataset\n",
    "data = pd.DataFrame({\n",
    "    'customer_region': ['North', 'South', 'East', 'West', 'North', 'East', 'South', 'West']\n",
    "})\n",
    "\n",
    "# Nominal encoding\n",
    "data['customer_region_encoded'] = data['customer_region'].astype('category').cat.codes\n",
    "\n",
    "print(\"Original Data:\\n\", data)\n"
   ]
  },
  {
   "cell_type": "code",
   "execution_count": 7,
   "id": "1979725c-a857-4ac3-92fe-2d7b469e1118",
   "metadata": {},
   "outputs": [
    {
     "data": {
      "text/plain": [
       "'Q4. Suppose you have a dataset containing categorical data with 5 unique values. Which encoding \\ntechnique would you use to transform this data into a format suitable for machine learning algorithms? \\nExplain why you made this choice.'"
      ]
     },
     "execution_count": 7,
     "metadata": {},
     "output_type": "execute_result"
    }
   ],
   "source": [
    "'''Q4. Suppose you have a dataset containing categorical data with 5 unique values. Which encoding \n",
    "technique would you use to transform this data into a format suitable for machine learning algorithms? \n",
    "Explain why you made this choice.'''"
   ]
  },
  {
   "cell_type": "code",
   "execution_count": 8,
   "id": "bdbf5da9-dcfc-4960-90fd-315dbf7cef77",
   "metadata": {},
   "outputs": [
    {
     "name": "stdout",
     "output_type": "stream",
     "text": [
      "Original Data:\n",
      "     color\n",
      "0     red\n",
      "1   green\n",
      "2    blue\n",
      "3  yellow\n",
      "4  purple\n",
      "Encoded Data:\n",
      "    color_blue  color_green  color_purple  color_red  color_yellow\n",
      "0           0            0             0          1             0\n",
      "1           0            1             0          0             0\n",
      "2           1            0             0          0             0\n",
      "3           0            0             0          0             1\n",
      "4           0            0             1          0             0\n"
     ]
    }
   ],
   "source": [
    "#For a dataset containing categorical data with 5 unique values, one-hot encoding is generally the preferred technique. Here’s why:\n",
    "\n",
    "'''Why Choose One-Hot Encoding?\n",
    "\n",
    "1..No Ordinal Relationship: One-hot encoding is ideal when there is no inherent order among the categories. It treats each category as an independent entity, \n",
    "which is often the case with nominal data.\n",
    "\n",
    "2..Avoids Ordinal Assumptions: Unlike label encoding, one-hot encoding does not introduce any ordinal relationships between the categories, which can be misleading \n",
    "for many machine learning algorithms.\n",
    "\n",
    "3..Compatibility with Algorithms: Many machine learning algorithms, especially linear models and neural networks, perform better with one-hot encoded data\n",
    "because it prevents the algorithm from assuming any ordinal relationship between the categories.'''\n",
    "\n",
    "#Implementation in Python\n",
    "#Here’s how you can implement one-hot encoding using Python and the pandas library:\n",
    "\n",
    "import pandas as pd\n",
    "\n",
    "# Example dataset\n",
    "data = pd.DataFrame({\n",
    "    'color': ['red', 'green', 'blue', 'yellow', 'purple']\n",
    "})\n",
    "\n",
    "# One-hot encoding\n",
    "encoded_data = pd.get_dummies(data, columns=['color'])\n",
    "\n",
    "print(\"Original Data:\\n\", data)\n",
    "print(\"Encoded Data:\\n\", encoded_data)\n",
    "\n"
   ]
  },
  {
   "cell_type": "code",
   "execution_count": 9,
   "id": "b0401226-8447-4f50-998c-92ca8457d34e",
   "metadata": {},
   "outputs": [
    {
     "data": {
      "text/plain": [
       "'Q5. In a machine learning project, you have a dataset with 1000 rows and 5 columns. Two of the columns \\nare categorical, and the remaining three columns are numerical. If you were to use nominal encoding to \\ntransform the categorical data, how many new columns would be created? Show your calculations.'"
      ]
     },
     "execution_count": 9,
     "metadata": {},
     "output_type": "execute_result"
    }
   ],
   "source": [
    " '''Q5. In a machine learning project, you have a dataset with 1000 rows and 5 columns. Two of the columns \n",
    "are categorical, and the remaining three columns are numerical. If you were to use nominal encoding to \n",
    "transform the categorical data, how many new columns would be created? Show your calculations.'''"
   ]
  },
  {
   "cell_type": "code",
   "execution_count": 10,
   "id": "10fd21bd-2446-4bd3-8341-0c317c3b27b1",
   "metadata": {},
   "outputs": [
    {
     "data": {
      "text/plain": [
       "'Nominal encoding does not increase the number of columns; it simply replaces the categorical values with numerical codes. Therefore, the total number of\\ncolumns remains the same.'"
      ]
     },
     "execution_count": 10,
     "metadata": {},
     "output_type": "execute_result"
    }
   ],
   "source": [
    "'''To determine how many new columns would be created using nominal encoding (label encoding) for the categorical data, we need to understand that nominal\n",
    "encoding assigns a unique integer to each category within a column. This means that the number of columns remains the same, but the categorical values\n",
    "are replaced with numerical codes.\n",
    "\n",
    "Example Calculation\n",
    "Let’s assume the two categorical columns are color and size, with the following unique values:\n",
    "\n",
    "Color: ['red', 'green', 'blue']\n",
    "Size: ['small', 'medium', 'large']\n",
    "Using nominal encoding, each category is assigned a unique integer:\n",
    "\n",
    "Color:\n",
    "    \n",
    "red -> 0\n",
    "green -> 1\n",
    "blue -> 2\n",
    "Size:\n",
    "small -> 0\n",
    "medium -> 1\n",
    "large -> 2'''\n",
    "\n",
    "#Resulting Dataset\n",
    "\n",
    "'''The resulting dataset will still have 5 columns (2 categorical and 3 numerical), but the categorical columns will now contain numerical codes instead of\n",
    "the original categories.'''\n",
    "\n",
    "#Summary\n",
    "\n",
    "#Original Columns: 5 (2 categorical + 3 numerical)\n",
    "\n",
    "#New Columns after Nominal Encoding: 5 (2 encoded categorical + 3 numerical)\n",
    "\n",
    "#Explanation\n",
    "\n",
    "'''Nominal encoding does not increase the number of columns; it simply replaces the categorical values with numerical codes. Therefore, the total number of\n",
    "columns remains the same.'''\n"
   ]
  },
  {
   "cell_type": "code",
   "execution_count": 11,
   "id": "3bac1897-869e-4420-a582-c2b6ac0ba208",
   "metadata": {},
   "outputs": [
    {
     "data": {
      "text/plain": [
       "' Q6. You are working with a dataset containing information about different types of animals, including their \\nspecies, habitat, and diet. Which encoding technique would you use to transform the categorical data into \\na format suitable for machine learning algorithms? Justify your answer.'"
      ]
     },
     "execution_count": 11,
     "metadata": {},
     "output_type": "execute_result"
    }
   ],
   "source": [
    "''' Q6. You are working with a dataset containing information about different types of animals, including their \n",
    "species, habitat, and diet. Which encoding technique would you use to transform the categorical data into \n",
    "a format suitable for machine learning algorithms? Justify your answer.'''"
   ]
  },
  {
   "cell_type": "code",
   "execution_count": 12,
   "id": "a1297e04-2bae-42b8-8af3-2da3894d07ba",
   "metadata": {},
   "outputs": [
    {
     "name": "stdout",
     "output_type": "stream",
     "text": [
      "Original Data:\n",
      "   species   habitat       diet\n",
      "0    lion  savannah  carnivore\n",
      "1   tiger    forest  carnivore\n",
      "2    bear  mountain   omnivore\n",
      "Encoded Data:\n",
      "    species_bear  species_lion  species_tiger  habitat_forest  \\\n",
      "0             0             1              0               0   \n",
      "1             0             0              1               1   \n",
      "2             1             0              0               0   \n",
      "\n",
      "   habitat_mountain  habitat_savannah  diet_carnivore  diet_omnivore  \n",
      "0                 0                 1               1              0  \n",
      "1                 0                 0               1              0  \n",
      "2                 1                 0               0              1  \n"
     ]
    }
   ],
   "source": [
    "'''For a dataset containing information about different types of animals, including their species, habitat, and diet, one-hot encoding is generally the \n",
    "most suitable technique. Here’s why:'''\n",
    "\n",
    "#Why Choose One-Hot Encoding?\n",
    "\n",
    "# 1.No Ordinal Relationship: The categories in your dataset (species, habitat, diet) are nominal, meaning they do not have an inherent order. One-hot encoding\n",
    "#treats each category as an independent entity, which is appropriate for nominal data.\n",
    "\n",
    "# 2.Prevents Ordinal Misinterpretation: Unlike label encoding, one-hot encoding does not introduce any ordinal relationships between the categories, which\n",
    "#can be misleading for many machine learning algorithms.\n",
    "\n",
    "# 3.Compatibility with Algorithms: Many machine learning algorithms, especially linear models and neural networks, perform better with one-hot encoded data\n",
    "#because it prevents the algorithm from assuming any ordinal relationship between the categories.\n",
    "\n",
    "import pandas as pd\n",
    "\n",
    "# Example dataset\n",
    "data = pd.DataFrame({\n",
    "    'species': ['lion', 'tiger', 'bear'],\n",
    "    'habitat': ['savannah', 'forest', 'mountain'],\n",
    "    'diet': ['carnivore', 'carnivore', 'omnivore']\n",
    "})\n",
    "\n",
    "# One-hot encoding\n",
    "encoded_data = pd.get_dummies(data, columns=['species', 'habitat', 'diet'])\n",
    "\n",
    "print(\"Original Data:\\n\", data)\n",
    "print(\"Encoded Data:\\n\", encoded_data)\n"
   ]
  },
  {
   "cell_type": "code",
   "execution_count": 13,
   "id": "4bc6b082-190f-4598-a3c8-1f803768c7be",
   "metadata": {},
   "outputs": [
    {
     "data": {
      "text/plain": [
       "\" Q7.You are working on a project that involves predicting customer churn for a telecommunications \\ncompany. You have a dataset with 5 features, including the customer's gender, age, contract type, \\nmonthly charges, and tenure. Which encoding technique(s) would you use to transform the categorical \\ndata into numerical data? Provide a step-by-step explanation of how you would implement the encoding.\""
      ]
     },
     "execution_count": 13,
     "metadata": {},
     "output_type": "execute_result"
    }
   ],
   "source": [
    "''' Q7.You are working on a project that involves predicting customer churn for a telecommunications \n",
    "company. You have a dataset with 5 features, including the customer's gender, age, contract type, \n",
    "monthly charges, and tenure. Which encoding technique(s) would you use to transform the categorical \n",
    "data into numerical data? Provide a step-by-step explanation of how you would implement the encoding.'''"
   ]
  },
  {
   "cell_type": "code",
   "execution_count": 16,
   "id": "30912ed4-48c4-4ca2-a480-6e0f630ccd5f",
   "metadata": {},
   "outputs": [
    {
     "name": "stdout",
     "output_type": "stream",
     "text": [
      "Label Encoded Gender:\n",
      "    gender  gender_encoded\n",
      "0    Male               1\n",
      "1  Female               0\n",
      "2  Female               0\n",
      "3    Male               1\n",
      "4  Female               0\n",
      "One-Hot Encoded Contract Type:\n",
      "    gender  age  monthly_charges  tenure  gender_encoded  \\\n",
      "0    Male   25               70      12               1   \n",
      "1  Female   30               80      24               0   \n",
      "2  Female   45               90      36               0   \n",
      "3    Male   35               60      48               1   \n",
      "4  Female   50              100      60               0   \n",
      "\n",
      "   contract_type_Month-to-Month  contract_type_One Year  \\\n",
      "0                           1.0                     0.0   \n",
      "1                           0.0                     1.0   \n",
      "2                           0.0                     0.0   \n",
      "3                           1.0                     0.0   \n",
      "4                           0.0                     1.0   \n",
      "\n",
      "   contract_type_Two Year  \n",
      "0                     0.0  \n",
      "1                     0.0  \n",
      "2                     1.0  \n",
      "3                     0.0  \n",
      "4                     0.0  \n"
     ]
    },
    {
     "name": "stderr",
     "output_type": "stream",
     "text": [
      "/opt/conda/lib/python3.10/site-packages/sklearn/preprocessing/_encoders.py:808: FutureWarning: `sparse` was renamed to `sparse_output` in version 1.2 and will be removed in 1.4. `sparse_output` is ignored unless you leave `sparse` to its default value.\n",
      "  warnings.warn(\n"
     ]
    }
   ],
   "source": [
    "'''For predicting customer churn with a dataset containing both categorical and numerical features, you can use a combination of one-hot encoding and label\n",
    "encoding to transform the categorical data into a numerical format suitable for machine learning algorithms.'''\n",
    "\n",
    "#Features in the Dataset:\n",
    "    \n",
    "#1.Gender (categorical)\n",
    "#2.Age (numerical)\n",
    "# 3.Contract Type (categorical)\n",
    "# 4.Monthly Charges (numerical)\n",
    "# 5.Tenure (numerical)\n",
    "\n",
    "#Step-by-Step Encoding Process:\n",
    "    \n",
    "#Identify Categorical Features: Determine which features are categorical. In this case, gender and contract type.\n",
    "\n",
    "# 1.Choose Encoding Techniques\n",
    "\n",
    "# 2.Gender: Use label encoding since it has only two categories (e.g., ‘Male’ and ‘Female’).\n",
    "#Contract Type: Use one-hot encoding since it may have multiple categories (e.g., ‘Month-to-Month’, ‘One Year’, ‘Two Year’)\n",
    "\n",
    "# 3.Implement Encoding:\n",
    "\n",
    "import pandas as pd\n",
    "from sklearn.preprocessing import LabelEncoder, OneHotEncoder\n",
    "\n",
    "# Example dataset\n",
    "data = pd.DataFrame({\n",
    "    'gender': ['Male', 'Female', 'Female', 'Male', 'Female'],\n",
    "    'age': [25, 30, 45, 35, 50],\n",
    "    'contract_type': ['Month-to-Month', 'One Year', 'Two Year', 'Month-to-Month', 'One Year'],\n",
    "    'monthly_charges': [70, 80, 90, 60, 100],\n",
    "    'tenure': [12, 24, 36, 48, 60]\n",
    "})\n",
    "\n",
    "\n",
    "# Initialize LabelEncoder\n",
    "label_encoder = LabelEncoder()\n",
    "\n",
    "# Fit and transform the 'gender' column\n",
    "data['gender_encoded'] = label_encoder.fit_transform(data['gender'])\n",
    "\n",
    "print(\"Label Encoded Gender:\\n\", data[['gender', 'gender_encoded']])\n",
    "\n",
    "\n",
    "# Initialize OneHotEncoder\n",
    "one_hot_encoder = OneHotEncoder(sparse=False)\n",
    "\n",
    "# Fit and transform the 'contract_type' column\n",
    "contract_type_encoded = one_hot_encoder.fit_transform(data[['contract_type']])\n",
    "\n",
    "# Create a DataFrame with the one-hot encoded columns\n",
    "contract_type_df = pd.DataFrame(contract_type_encoded, columns=one_hot_encoder.get_feature_names_out(['contract_type']))\n",
    "\n",
    "# Concatenate the original data with the one-hot encoded columns\n",
    "data = pd.concat([data, contract_type_df], axis=1)\n",
    "\n",
    "# Drop the original 'contract_type' column\n",
    "data.drop('contract_type', axis=1, inplace=True)\n",
    "\n",
    "print(\"One-Hot Encoded Contract Type:\\n\", data)\n"
   ]
  },
  {
   "cell_type": "code",
   "execution_count": null,
   "id": "0346f04f-7757-4116-8419-312163f845a2",
   "metadata": {},
   "outputs": [],
   "source": []
  }
 ],
 "metadata": {
  "kernelspec": {
   "display_name": "Python 3 (ipykernel)",
   "language": "python",
   "name": "python3"
  },
  "language_info": {
   "codemirror_mode": {
    "name": "ipython",
    "version": 3
   },
   "file_extension": ".py",
   "mimetype": "text/x-python",
   "name": "python",
   "nbconvert_exporter": "python",
   "pygments_lexer": "ipython3",
   "version": "3.10.8"
  }
 },
 "nbformat": 4,
 "nbformat_minor": 5
}
